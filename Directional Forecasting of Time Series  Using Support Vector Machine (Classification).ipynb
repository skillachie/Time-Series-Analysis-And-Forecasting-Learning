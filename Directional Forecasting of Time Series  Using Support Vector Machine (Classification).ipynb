{
 "metadata": {
  "name": "",
  "signature": "sha256:3eb3f2d2b8558f3094b009192fb10888b7051f96b4338a9fcefd0438b8dc3365"
 },
 "nbformat": 3,
 "nbformat_minor": 0,
 "worksheets": [
  {
   "cells": [
    {
     "cell_type": "code",
     "collapsed": false,
     "input": [
      "import datetime\n",
      "from datetime import date\n",
      "import numpy as np\n",
      "import pandas as pd\n",
      "import sklearn\n",
      "from pandas.io.data import DataReader\n",
      "from sklearn.ensemble import RandomForestClassifier\n",
      "from sklearn.linear_model import LogisticRegression\n",
      "from sklearn.lda import LDA\n",
      "from sklearn.metrics import confusion_matrix\n",
      "from sklearn.qda import QDA\n",
      "from sklearn.svm import LinearSVC, SVC\n",
      "from sklearn.preprocessing import StandardScaler\n",
      "\n",
      "\n",
      "#For directional forecast shift values forward to future days  that you want to forecast and then use that to make the prediction\n",
      "#of the future date"
     ],
     "language": "python",
     "metadata": {},
     "outputs": [],
     "prompt_number": 248
    },
    {
     "cell_type": "code",
     "collapsed": false,
     "input": [
      "def create_lagged_series(symbol, start_date, end_date, lags=5):\n",
      "\n",
      "    \"\"\"\n",
      "    This creates a Pandas DataFrame that stores the\n",
      "    percentage returns of the adjusted closing value of\n",
      "    a stock obtained from Yahoo Finance, along with a\n",
      "    number of lagged returns from the prior trading days\n",
      "    (lags defaults to 5 days). Trading volume, as well as\n",
      "    the Direction from the previous day, are also included\n",
      "    \"\"\"\n",
      "    \n",
      "    # Obtain stock information from Yahoo Finance\n",
      "    ts = DataReader( symbol, \"yahoo\",start_date-datetime.timedelta(days=365),end_date)\n",
      "    \n",
      "    # Create the new lagged DataFrame with same index as original\n",
      "    tslag = pd.DataFrame(index=ts.index)\n",
      "    print tslag.index\n",
      "    # What if we want to know the prediction for values not in the current test set\n",
      "    # Add the additional dates before shifting ?\n",
      "    \n",
      "    # Insert Adj Close and Volume into Dataframe as Today and Volume respectively \n",
      "    tslag[\"Today\"] = ts[\"Adj Close\"]\n",
      "    tslag[\"Volume\"] = ts[\"Volume\"]\n",
      "\n",
      "    \n",
      "    # Create the shifted lag series of prior trading period close values\n",
      "    # Adj Closed is shifted forward to the next day by i \n",
      "    for i in xrange(0,lags):\n",
      "        tslag[\"Lag%s\" % str(i+1)] = ts[\"Adj Close\"].shift(i+1)\n",
      "    \n",
      "    # Create the returns DataFrame based on the shifed lag data frame above\n",
      "    tsret = pd.DataFrame(index=tslag.index)\n",
      "    tsret[\"Volume\"] = tslag[\"Volume\"]\n",
      "    tsret[\"Today\"] = tslag[\"Today\"].pct_change()*100.0\n",
      "\n",
      "    \n",
      "    # If any of the values of percentage returns equal zero, set them to\n",
      "    # a small number (stops issues with QDA model in Scikit-Learn)\n",
      "    for i,x in enumerate(tsret[\"Today\"]):\n",
      "        if (abs(x) < 0.0001):\n",
      "            tsret[\"Today\"][i] = 0.0001\n",
      "\n",
      "            \n",
      "    # Create the lagged percentage returns columns\n",
      "    for i in xrange(0,lags):\n",
      "        tsret[\"Lag%s\" % str(i+1)] = tslag[\"Lag%s\" % str(i+1)].pct_change()*100.0\n",
      "\n",
      "    # Create the \"Direction\" column (+1 or -1) indicating an up/down day\n",
      "    tsret[\"Direction\"] = np.sign(tsret[\"Today\"])\n",
      "    \n",
      "    #Data obtained contains more than start date, therefore only obtain what is needed\n",
      "    tsret = tsret[tsret.index >= start_date]\n",
      "    return tsret\n"
     ],
     "language": "python",
     "metadata": {},
     "outputs": [],
     "prompt_number": 249
    },
    {
     "cell_type": "code",
     "collapsed": false,
     "input": [
      "snpret = create_lagged_series(\"AMD\", datetime.datetime(2001,1,10),datetime.datetime(2005,12,31), lags=5)"
     ],
     "language": "python",
     "metadata": {},
     "outputs": [
      {
       "output_type": "stream",
       "stream": "stdout",
       "text": [
        "<class 'pandas.tseries.index.DatetimeIndex'>\n",
        "[2000-01-11, ..., 2005-12-30]\n",
        "Length: 1502, Freq: None, Timezone: None\n"
       ]
      }
     ],
     "prompt_number": 250
    },
    {
     "cell_type": "code",
     "collapsed": false,
     "input": [
      "print snpret.tail()"
     ],
     "language": "python",
     "metadata": {},
     "outputs": [
      {
       "output_type": "stream",
       "stream": "stdout",
       "text": [
        "              Volume     Today      Lag1      Lag2      Lag3      Lag4  \\\n",
        "Date                                                                     \n",
        "2005-12-23   5323300  1.598934  2.317655  0.410678  3.911807 -0.177494   \n",
        "2005-12-27   9535100  2.295082  1.598934  2.317655  0.410678  3.911807   \n",
        "2005-12-28   9601300  1.602564  2.295082  1.598934  2.317655  0.410678   \n",
        "2005-12-29  11510800 -3.690852  1.602564  2.295082  1.598934  2.317655   \n",
        "2005-12-30   6540900  0.229283 -3.690852  1.602564  2.295082  1.598934   \n",
        "\n",
        "                Lag5  Direction  \n",
        "Date                             \n",
        "2005-12-23  0.967742          1  \n",
        "2005-12-27 -0.177494          1  \n",
        "2005-12-28  3.911807          1  \n",
        "2005-12-29  0.410678         -1  \n",
        "2005-12-30  2.317655          1  \n"
       ]
      }
     ],
     "prompt_number": 251
    },
    {
     "cell_type": "code",
     "collapsed": false,
     "input": [
      "# Use the prior two days of returns as predictor\n",
      "# values, with direction as the response\n",
      "X = snpret[[\"Lag1\",\"Lag2\"]]\n",
      "y = snpret[\"Direction\"]\n",
      "# The test data is split into two parts: Before and after 1st Jan 2005.\n",
      "start_test = datetime.datetime(2005,1,1)\n",
      "# Create training and test sets\n",
      "X_train = X[X.index < start_test]\n",
      "X_test = X[X.index >= start_test]\n",
      "\n",
      "y_train = y[y.index < start_test]\n",
      "y_test = y[y.index >= start_test]\n",
      "\n",
      "scalerX = StandardScaler().fit(X_train)\n",
      "scalery = StandardScaler().fit(y_train)\n",
      "X_train = scalerX.transform(X_train)\n",
      "#y_train = scalery.transform(y_train)\n",
      "X_test = scalerX.transform(X_test)\n",
      "#y_test = scalery.transform(y_test)\n",
      "\n"
     ],
     "language": "python",
     "metadata": {},
     "outputs": [],
     "prompt_number": 252
    },
    {
     "cell_type": "code",
     "collapsed": false,
     "input": [
      "svc_model = SVC(C=1000000.0, cache_size=200, class_weight=None,coef0=0.1, \n",
      "                degree=3, gamma=0.0001, kernel='rbf',max_iter=-1, probability=False, \n",
      "                random_state=None, shrinking=True, tol=0.001, verbose=False)"
     ],
     "language": "python",
     "metadata": {},
     "outputs": [],
     "prompt_number": 253
    },
    {
     "cell_type": "code",
     "collapsed": false,
     "input": [
      "svc_model.fit(X_train,y_train)"
     ],
     "language": "python",
     "metadata": {},
     "outputs": [
      {
       "metadata": {},
       "output_type": "pyout",
       "prompt_number": 254,
       "text": [
        "SVC(C=1000000.0, cache_size=200, class_weight=None, coef0=0.1, degree=3,\n",
        "  gamma=0.0001, kernel='rbf', max_iter=-1, probability=False,\n",
        "  random_state=None, shrinking=True, tol=0.001, verbose=False)"
       ]
      }
     ],
     "prompt_number": 254
    },
    {
     "cell_type": "code",
     "collapsed": false,
     "input": [
      "y_pred = svc_model.predict(X_test)"
     ],
     "language": "python",
     "metadata": {},
     "outputs": [],
     "prompt_number": 257
    },
    {
     "cell_type": "code",
     "collapsed": false,
     "input": [
      "print \"%s\\n\" %  svc_model.score(X_test, y_test)\n",
      "print \"%s\\n\" % confusion_matrix(y_pred, y_test)"
     ],
     "language": "python",
     "metadata": {},
     "outputs": [
      {
       "output_type": "stream",
       "stream": "stdout",
       "text": [
        "0.619047619048\n",
        "\n",
        "[[  6   5]\n",
        " [ 91 150]]\n",
        "\n"
       ]
      }
     ],
     "prompt_number": 258
    },
    {
     "cell_type": "heading",
     "level": 2,
     "metadata": {},
     "source": [
      "Model needs to be improved and tweaked but,How do we now use the above model to determine the direction for dates that were not in the test ? Meaning predict the direction for dates 2005-12-30, 2006-1-1,2006-1-2 ?"
     ]
    },
    {
     "cell_type": "code",
     "collapsed": false,
     "input": [],
     "language": "python",
     "metadata": {},
     "outputs": []
    }
   ],
   "metadata": {}
  }
 ]
}