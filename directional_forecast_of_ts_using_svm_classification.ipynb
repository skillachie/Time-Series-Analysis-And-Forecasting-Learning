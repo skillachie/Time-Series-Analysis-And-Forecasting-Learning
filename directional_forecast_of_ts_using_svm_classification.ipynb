{
 "metadata": {
  "name": "",
  "signature": "sha256:535a7f4b4b7bc608a5a9bce267ac4348ba0aa82326f56c6fcd9c23689cd33356"
 },
 "nbformat": 3,
 "nbformat_minor": 0,
 "worksheets": [
  {
   "cells": [
    {
     "cell_type": "code",
     "collapsed": false,
     "input": [
      "import datetime\n",
      "from datetime import date\n",
      "import numpy as np\n",
      "import pandas as pd\n",
      "import sklearn\n",
      "from pandas.io.data import DataReader\n",
      "from sklearn.ensemble import RandomForestClassifier\n",
      "from sklearn.linear_model import LogisticRegression\n",
      "from sklearn.lda import LDA\n",
      "from sklearn.metrics import confusion_matrix\n",
      "from sklearn.qda import QDA\n",
      "from sklearn.svm import LinearSVC, SVC\n",
      "from sklearn.preprocessing import StandardScaler\n",
      "\n",
      "\n",
      "#For directional forecast shift values forward to future days  that you want to forecast and then use that to make the prediction\n",
      "#of the future date"
     ],
     "language": "python",
     "metadata": {},
     "outputs": [],
     "prompt_number": 389
    },
    {
     "cell_type": "code",
     "collapsed": false,
     "input": [
      "def create_lagged_series(ts, start_date, end_date, lags=5):\n",
      "\n",
      "    \"\"\"\n",
      "    This creates a Pandas DataFrame that stores the\n",
      "    percentage returns of the adjusted closing value of\n",
      "    a stock obtained from Yahoo Finance, along with a\n",
      "    number of lagged returns from the prior trading days\n",
      "    (lags defaults to 5 days). Trading volume, as well as\n",
      "    the Direction from the previous day, are also included\n",
      "    \"\"\"\n",
      "    \n",
      "    \n",
      "    # Create the new lagged DataFrame with same index as original\n",
      "    tslag = pd.DataFrame(index=ts.index)\n",
      "    print tslag.index\n",
      "    # What if we want to know the prediction for values not in the current test set\n",
      "    # Add the additional dates before shifting ?\n",
      "    \n",
      "    # Insert Adj Close and Volume into Dataframe as Today and Volume respectively \n",
      "    tslag[\"Today\"] = ts[\"Adj Close\"]\n",
      "    tslag[\"Volume\"] = ts[\"Volume\"]\n",
      "\n",
      "    \n",
      "    # Create the shifted lag series of prior trading period close values\n",
      "    # Adj Closed is shifted forward to the next day by i \n",
      "    for i in xrange(0,lags):\n",
      "        tslag[\"Lag%s\" % str(i+1)] = ts[\"Adj Close\"].shift(i+1)\n",
      "    \n",
      "    # Create the returns DataFrame based on the shifed lag data frame above\n",
      "    tsret = pd.DataFrame(index=tslag.index)\n",
      "    tsret[\"Volume\"] = tslag[\"Volume\"]\n",
      "    tsret[\"Today\"] = tslag[\"Today\"].pct_change()*100.0\n",
      "\n",
      "    \n",
      "    # If any of the values of percentage returns equal zero, set them to\n",
      "    # a small number (stops issues with QDA model in Scikit-Learn)\n",
      "    for i,x in enumerate(tsret[\"Today\"]):\n",
      "        if (abs(x) < 0.0001):\n",
      "            tsret[\"Today\"][i] = 0.0001\n",
      "\n",
      "            \n",
      "    # Create the lagged percentage returns columns\n",
      "    for i in xrange(0,lags):\n",
      "        tsret[\"Lag%s\" % str(i+1)] = tslag[\"Lag%s\" % str(i+1)].pct_change()*100.0\n",
      "\n",
      "    # Create the \"Direction\" column (+1 or -1) indicating an up/down day\n",
      "    tsret[\"Direction\"] = np.sign(tsret[\"Today\"])\n",
      "    \n",
      "    #Data obtained contains more than start date, therefore only obtain what is needed\n",
      "    tsret = tsret[tsret.index >= start_date]\n",
      "    return tsret\n"
     ],
     "language": "python",
     "metadata": {},
     "outputs": [],
     "prompt_number": 390
    },
    {
     "cell_type": "code",
     "collapsed": false,
     "input": [
      "start_date_d = datetime.datetime(2001,1,10)\n",
      "end_date_d = datetime.datetime(2005,12,30)\n",
      "symbol = \"AMD\"\n",
      "\n",
      "# Obtain stock information from Yahoo Finance\n",
      "ts = DataReader( symbol, \"yahoo\",start_date_d-datetime.timedelta(days=365),end_date_d)\n",
      "\n",
      "snpret = create_lagged_series(ts,start_date_d, end_date_d, lags=5)"
     ],
     "language": "python",
     "metadata": {},
     "outputs": [
      {
       "output_type": "stream",
       "stream": "stdout",
       "text": [
        "<class 'pandas.tseries.index.DatetimeIndex'>\n",
        "[2000-01-11, ..., 2005-12-30]\n",
        "Length: 1502, Freq: None, Timezone: None\n"
       ]
      }
     ],
     "prompt_number": 391
    },
    {
     "cell_type": "code",
     "collapsed": false,
     "input": [
      "print snpret.tail()"
     ],
     "language": "python",
     "metadata": {},
     "outputs": [
      {
       "output_type": "stream",
       "stream": "stdout",
       "text": [
        "              Volume     Today      Lag1      Lag2      Lag3      Lag4  \\\n",
        "Date                                                                     \n",
        "2005-12-23   5323300  1.598934  2.317655  0.410678  3.911807 -0.177494   \n",
        "2005-12-27   9535100  2.295082  1.598934  2.317655  0.410678  3.911807   \n",
        "2005-12-28   9601300  1.602564  2.295082  1.598934  2.317655  0.410678   \n",
        "2005-12-29  11510800 -3.690852  1.602564  2.295082  1.598934  2.317655   \n",
        "2005-12-30   6540900  0.229283 -3.690852  1.602564  2.295082  1.598934   \n",
        "\n",
        "                Lag5  Direction  \n",
        "Date                             \n",
        "2005-12-23  0.967742          1  \n",
        "2005-12-27 -0.177494          1  \n",
        "2005-12-28  3.911807          1  \n",
        "2005-12-29  0.410678         -1  \n",
        "2005-12-30  2.317655          1  \n"
       ]
      }
     ],
     "prompt_number": 392
    },
    {
     "cell_type": "code",
     "collapsed": false,
     "input": [
      "# Use the prior two days of returns as predictor\n",
      "# values, with direction as the response\n",
      "X = snpret[[\"Lag1\",\"Lag2\"]]\n",
      "y = snpret[\"Direction\"]\n",
      "# The test data is split into two parts: Before and after 1st Jan 2005.\n",
      "start_test = datetime.datetime(2005,1,1)\n",
      "# Create training and test sets\n",
      "X_train = X[X.index < start_test]\n",
      "X_test = X[X.index >= start_test]\n",
      "\n",
      "y_train = y[y.index < start_test]\n",
      "y_test = y[y.index >= start_test]\n",
      "\n",
      "scalerX = StandardScaler().fit(X_train)\n",
      "scalery = StandardScaler().fit(y_train)\n",
      "X_train = scalerX.transform(X_train)\n",
      "#y_train = scalery.transform(y_train)\n",
      "X_test = scalerX.transform(X_test)\n",
      "#y_test = scalery.transform(y_test)\n",
      "\n"
     ],
     "language": "python",
     "metadata": {},
     "outputs": [],
     "prompt_number": 393
    },
    {
     "cell_type": "code",
     "collapsed": false,
     "input": [
      "svc_model = SVC(C=1000000.0, cache_size=200, class_weight=None,coef0=0.1, \n",
      "                degree=3, gamma=0.0001, kernel='rbf',max_iter=-1, probability=False, \n",
      "                random_state=None, shrinking=True, tol=0.001, verbose=False)"
     ],
     "language": "python",
     "metadata": {},
     "outputs": [],
     "prompt_number": 394
    },
    {
     "cell_type": "code",
     "collapsed": false,
     "input": [
      "svc_model.fit(X_train,y_train)"
     ],
     "language": "python",
     "metadata": {},
     "outputs": [
      {
       "metadata": {},
       "output_type": "pyout",
       "prompt_number": 395,
       "text": [
        "SVC(C=1000000.0, cache_size=200, class_weight=None, coef0=0.1, degree=3,\n",
        "  gamma=0.0001, kernel='rbf', max_iter=-1, probability=False,\n",
        "  random_state=None, shrinking=True, tol=0.001, verbose=False)"
       ]
      }
     ],
     "prompt_number": 395
    },
    {
     "cell_type": "code",
     "collapsed": false,
     "input": [
      "y_pred = svc_model.predict(X_test)"
     ],
     "language": "python",
     "metadata": {},
     "outputs": [],
     "prompt_number": 396
    },
    {
     "cell_type": "code",
     "collapsed": false,
     "input": [
      "print \"%s\\n\" %  svc_model.score(X_test, y_test)\n",
      "print \"%s\\n\" % confusion_matrix(y_pred, y_test)"
     ],
     "language": "python",
     "metadata": {},
     "outputs": [
      {
       "output_type": "stream",
       "stream": "stdout",
       "text": [
        "0.619047619048\n",
        "\n",
        "[[  6   5]\n",
        " [ 91 150]]\n",
        "\n"
       ]
      }
     ],
     "prompt_number": 397
    },
    {
     "cell_type": "heading",
     "level": 2,
     "metadata": {},
     "source": [
      "Model needs to be improved and tweaked but,How do we now use the above model to determine the direction for dates that were not in the test ? Meaning predict the direction for dates 2005-12-30, 2006-1-1,2006-1-2 ?"
     ]
    },
    {
     "cell_type": "code",
     "collapsed": false,
     "input": [
      "# Obtain stock information from Yahoo Finance\n",
      "start_date2 = datetime.datetime(2005,1,10)\n",
      "end_date2 = datetime.datetime(2005,12,31)\n",
      "\n",
      "\n",
      "future_dates = [datetime.datetime(2006,1,1),datetime.datetime(2006,1,2)]\n",
      "\n",
      "ts = DataReader( \"AMD\", \"yahoo\",start_date2-datetime.timedelta(days=365),end_date2)\n"
     ],
     "language": "python",
     "metadata": {},
     "outputs": [],
     "prompt_number": 398
    },
    {
     "cell_type": "code",
     "collapsed": false,
     "input": [
      "print (ts.head())\n"
     ],
     "language": "python",
     "metadata": {},
     "outputs": [
      {
       "output_type": "stream",
       "stream": "stdout",
       "text": [
        "             Open   High    Low  Close    Volume  Adj Close\n",
        "Date                                                       \n",
        "2004-01-12  15.70  15.77  15.44  15.77   8306700      15.77\n",
        "2004-01-13  15.84  15.85  15.14  15.19  12812000      15.19\n",
        "2004-01-14  15.35  15.37  15.11  15.20  13103400      15.20\n",
        "2004-01-15  15.25  15.92  15.14  15.90  15471500      15.90\n",
        "2004-01-16  16.01  17.08  15.90  16.76  25060000      16.76\n"
       ]
      }
     ],
     "prompt_number": 399
    },
    {
     "cell_type": "code",
     "collapsed": false,
     "input": [
      "# Create Datetime Index with future date\n",
      "future_index = pd.DatetimeIndex(start=datetime.datetime(2005,12,31),periods=5,freq='D')\n",
      "\n",
      "#Create empty dataframe\n",
      "f_columns = ['Open','High', 'Low','Close','Volume','Adj Close']\n",
      "\n",
      "f_dataframe = pd.DataFrame(index=future_index, columns=f_columns)\n",
      "\n",
      "#Prevent issues  with calculations \n",
      "f_dataframe = f_dataframe.fillna(0) # with 0s rather than NaNs\n",
      "\n",
      "#Now append future dataframe to dataframe that contains previous data\n",
      "future_dataframe = ts.append(f_dataframe,verify_integrity=True)\n"
     ],
     "language": "python",
     "metadata": {},
     "outputs": [],
     "prompt_number": 400
    },
    {
     "cell_type": "code",
     "collapsed": false,
     "input": [
      "lagged_dataframe = create_lagged_series( future_dataframe,\n",
      "                                         datetime.datetime(2001,1,10),\n",
      "                                         datetime.datetime(2005,12,31), \n",
      "                                         lags=5)"
     ],
     "language": "python",
     "metadata": {},
     "outputs": [
      {
       "output_type": "stream",
       "stream": "stdout",
       "text": [
        "<class 'pandas.tseries.index.DatetimeIndex'>\n",
        "[2004-01-12, ..., 2006-01-04]\n",
        "Length: 503, Freq: None, Timezone: None\n"
       ]
      }
     ],
     "prompt_number": 401
    },
    {
     "cell_type": "code",
     "collapsed": false,
     "input": [
      "# Look at lagged_dataframe to ensure that Lag[1-5] features have been created for the future dates \n",
      "\n",
      "print lagged_dataframe.head()\n",
      "print lagged_dataframe.tail()"
     ],
     "language": "python",
     "metadata": {},
     "outputs": [
      {
       "output_type": "stream",
       "stream": "stdout",
       "text": [
        "              Volume     Today      Lag1      Lag2      Lag3  Lag4  Lag5  \\\n",
        "2004-01-12   8306700       NaN       NaN       NaN       NaN   NaN   NaN   \n",
        "2004-01-13  12812000 -3.677869       NaN       NaN       NaN   NaN   NaN   \n",
        "2004-01-14  13103400  0.065833 -3.677869       NaN       NaN   NaN   NaN   \n",
        "2004-01-15  15471500  4.605263  0.065833 -3.677869       NaN   NaN   NaN   \n",
        "2004-01-16  25060000  5.408805  4.605263  0.065833 -3.677869   NaN   NaN   \n",
        "\n",
        "            Direction  \n",
        "2004-01-12        NaN  \n",
        "2004-01-13         -1  \n",
        "2004-01-14          1  \n",
        "2004-01-15          1  \n",
        "2004-01-16          1  \n",
        "            Volume  Today        Lag1        Lag2        Lag3        Lag4  \\\n",
        "2005-12-31       0   -100    0.229283   -3.690852    1.602564    2.295082   \n",
        "2006-01-01       0    NaN -100.000000    0.229283   -3.690852    1.602564   \n",
        "2006-01-02       0    NaN         NaN -100.000000    0.229283   -3.690852   \n",
        "2006-01-03       0    NaN         NaN         NaN -100.000000    0.229283   \n",
        "2006-01-04       0    NaN         NaN         NaN         NaN -100.000000   \n",
        "\n",
        "                Lag5  Direction  \n",
        "2005-12-31  1.598934         -1  \n",
        "2006-01-01  2.295082        NaN  \n",
        "2006-01-02  1.602564        NaN  \n",
        "2006-01-03 -3.690852        NaN  \n",
        "2006-01-04  0.229283        NaN  \n"
       ]
      }
     ],
     "prompt_number": 402
    },
    {
     "cell_type": "markdown",
     "metadata": {},
     "source": [
      "From looking at the generated lagged dataframe  Lag 1 through Lag5 always had each feature populated with a value since we had data for all colums. However based on the currently generated dataframe  the amount of features that can be used would depend on how much into the future you would like to forecast\n",
      "\n",
      "1. Forecast for the next day (2005-12-31) we will be able to use Lag[1-5]\n",
      "2. Forecast for next two days(2006-01-01) we will only be able to use Lag[2-5]\n",
      "3. Forecast for net three days(2006-01-02) we will only be able to use Lag[3-5]\n",
      "\n",
      "The number of features that we can use to forecast decreases as we tend to the future. Guess it makes sense since less information is avaliable. "
     ]
    },
    {
     "cell_type": "heading",
     "level": 4,
     "metadata": {},
     "source": [
      "Prediction for 2005-12-31 use dates  Jan 3, 2006 to eyeball on yahoo http://finance.yahoo.com/q/hp?s=AMD&a=02&b=21&c=2004&d=00&e=10&f=2006&g=d"
     ]
    },
    {
     "cell_type": "code",
     "collapsed": false,
     "input": [
      "# Now lets make a prediction for  2005-12-31  using Lag 1 and Lag 2\n",
      "pd_d = lagged_dataframe.loc[datetime.datetime(2005, 12, 31):datetime.datetime(2005, 12, 31)]\n",
      "pd_features = pd_d[ ['Lag1','Lag2'] ]"
     ],
     "language": "python",
     "metadata": {},
     "outputs": [
      {
       "output_type": "stream",
       "stream": "stdout",
       "text": [
        "<class 'pandas.tseries.index.DatetimeIndex'>\n",
        "[2004-01-12, ..., 2006-01-04]\n",
        "Length: 503, Freq: None, Timezone: None\n"
       ]
      }
     ],
     "prompt_number": 409
    },
    {
     "cell_type": "code",
     "collapsed": false,
     "input": [
      "# Scale data using fit based on training set. Should it be done this way ?\n",
      "# Or scale according to the features present in the new dataset\n",
      "X_test_future = scalerX.transform(pd_features)"
     ],
     "language": "python",
     "metadata": {},
     "outputs": [],
     "prompt_number": 411
    },
    {
     "cell_type": "code",
     "collapsed": false,
     "input": [
      "# Ignoring market days for now.\n",
      "y_pred_2005_12_31 = svc_model.predict(X_test_future)\n",
      "print y_pred_2005_12_31"
     ],
     "language": "python",
     "metadata": {},
     "outputs": [
      {
       "output_type": "stream",
       "stream": "stdout",
       "text": [
        "[ 1.]\n"
       ]
      }
     ],
     "prompt_number": 412
    },
    {
     "cell_type": "heading",
     "level": 4,
     "metadata": {},
     "source": [
      "Prediction for  2006-01-01 use  Yahoo Jan 4, 2006"
     ]
    },
    {
     "cell_type": "code",
     "collapsed": false,
     "input": [
      "pd_d = lagged_dataframe.loc[datetime.datetime(2006, 1, 1):datetime.datetime(2006, 1, 1)]\n",
      "pd_features = pd_d[ ['Lag2','Lag3'] ]\n",
      "X_test_future = scalerX.transform(pd_features)\n",
      "\n",
      "y_pred_2006_01_01 = svc_model.predict(X_test_future)\n",
      "print y_pred_2006_01_01"
     ],
     "language": "python",
     "metadata": {},
     "outputs": [
      {
       "output_type": "stream",
       "stream": "stdout",
       "text": [
        "[ 1.]\n"
       ]
      }
     ],
     "prompt_number": 425
    },
    {
     "cell_type": "code",
     "collapsed": false,
     "input": [],
     "language": "python",
     "metadata": {},
     "outputs": []
    }
   ],
   "metadata": {}
  }
 ]
}